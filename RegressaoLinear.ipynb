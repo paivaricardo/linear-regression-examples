{
  "nbformat": 4,
  "nbformat_minor": 0,
  "metadata": {
    "colab": {
      "provenance": [],
      "include_colab_link": true
    },
    "kernelspec": {
      "name": "python3",
      "display_name": "Python 3"
    },
    "language_info": {
      "name": "python"
    }
  },
  "cells": [
    {
      "cell_type": "markdown",
      "metadata": {
        "id": "view-in-github",
        "colab_type": "text"
      },
      "source": [
        "<a href=\"https://colab.research.google.com/github/paivaricardo/linear-regression-examples/blob/main/RegressaoLinear.ipynb\" target=\"_parent\"><img src=\"https://colab.research.google.com/assets/colab-badge.svg\" alt=\"Open In Colab\"/></a>"
      ]
    },
    {
      "cell_type": "markdown",
      "metadata": {
        "id": "9bUrpPdiRbmt"
      },
      "source": [
        "Primeiro passo: importar os dados do CSV."
      ]
    },
    {
      "cell_type": "code",
      "metadata": {
        "colab": {
          "base_uri": "https://localhost:8080/"
        },
        "id": "xbUPf4DkRgP4",
        "outputId": "7d9e4fe8-1211-4137-b250-34257851625e"
      },
      "source": [
        "import pandas as pd\n",
        "dataFrame = pd.read_csv(\"/content/kc_house_data.csv\")\n",
        "print(\"Linhas\", len(dataFrame))\n",
        "print(\"Colunas\", len(dataFrame.columns))"
      ],
      "execution_count": null,
      "outputs": [
        {
          "output_type": "stream",
          "name": "stdout",
          "text": [
            "Linhas 21613\n",
            "Colunas 21\n"
          ]
        }
      ]
    },
    {
      "cell_type": "markdown",
      "metadata": {
        "id": "_w36-NSXSb4r"
      },
      "source": [
        "uma vez que os dados foram importados para o data frame, vams ver os primeiros registro."
      ]
    },
    {
      "cell_type": "code",
      "metadata": {
        "colab": {
          "base_uri": "https://localhost:8080/",
          "height": 226
        },
        "id": "BbOU9F2LSoEv",
        "outputId": "94ecc849-23d3-498b-bb38-00ac7f722877"
      },
      "source": [
        "dataFrame.head()"
      ],
      "execution_count": null,
      "outputs": [
        {
          "output_type": "execute_result",
          "data": {
            "text/html": [
              "<div>\n",
              "<style scoped>\n",
              "    .dataframe tbody tr th:only-of-type {\n",
              "        vertical-align: middle;\n",
              "    }\n",
              "\n",
              "    .dataframe tbody tr th {\n",
              "        vertical-align: top;\n",
              "    }\n",
              "\n",
              "    .dataframe thead th {\n",
              "        text-align: right;\n",
              "    }\n",
              "</style>\n",
              "<table border=\"1\" class=\"dataframe\">\n",
              "  <thead>\n",
              "    <tr style=\"text-align: right;\">\n",
              "      <th></th>\n",
              "      <th>id</th>\n",
              "      <th>date</th>\n",
              "      <th>price</th>\n",
              "      <th>bedrooms</th>\n",
              "      <th>bathrooms</th>\n",
              "      <th>sqft_living</th>\n",
              "      <th>sqft_lot</th>\n",
              "      <th>floors</th>\n",
              "      <th>waterfront</th>\n",
              "      <th>view</th>\n",
              "      <th>condition</th>\n",
              "      <th>grade</th>\n",
              "      <th>sqft_above</th>\n",
              "      <th>sqft_basement</th>\n",
              "      <th>yr_built</th>\n",
              "      <th>yr_renovated</th>\n",
              "      <th>zipcode</th>\n",
              "      <th>lat</th>\n",
              "      <th>long</th>\n",
              "      <th>sqft_living15</th>\n",
              "      <th>sqft_lot15</th>\n",
              "    </tr>\n",
              "  </thead>\n",
              "  <tbody>\n",
              "    <tr>\n",
              "      <th>0</th>\n",
              "      <td>7129300520</td>\n",
              "      <td>20141013T000000</td>\n",
              "      <td>221900.0</td>\n",
              "      <td>3</td>\n",
              "      <td>1.00</td>\n",
              "      <td>1180</td>\n",
              "      <td>5650</td>\n",
              "      <td>1.0</td>\n",
              "      <td>0</td>\n",
              "      <td>0</td>\n",
              "      <td>3</td>\n",
              "      <td>7</td>\n",
              "      <td>1180</td>\n",
              "      <td>0</td>\n",
              "      <td>1955</td>\n",
              "      <td>0</td>\n",
              "      <td>98178</td>\n",
              "      <td>47.5112</td>\n",
              "      <td>-122.257</td>\n",
              "      <td>1340</td>\n",
              "      <td>5650</td>\n",
              "    </tr>\n",
              "    <tr>\n",
              "      <th>1</th>\n",
              "      <td>6414100192</td>\n",
              "      <td>20141209T000000</td>\n",
              "      <td>538000.0</td>\n",
              "      <td>3</td>\n",
              "      <td>2.25</td>\n",
              "      <td>2570</td>\n",
              "      <td>7242</td>\n",
              "      <td>2.0</td>\n",
              "      <td>0</td>\n",
              "      <td>0</td>\n",
              "      <td>3</td>\n",
              "      <td>7</td>\n",
              "      <td>2170</td>\n",
              "      <td>400</td>\n",
              "      <td>1951</td>\n",
              "      <td>1991</td>\n",
              "      <td>98125</td>\n",
              "      <td>47.7210</td>\n",
              "      <td>-122.319</td>\n",
              "      <td>1690</td>\n",
              "      <td>7639</td>\n",
              "    </tr>\n",
              "    <tr>\n",
              "      <th>2</th>\n",
              "      <td>5631500400</td>\n",
              "      <td>20150225T000000</td>\n",
              "      <td>180000.0</td>\n",
              "      <td>2</td>\n",
              "      <td>1.00</td>\n",
              "      <td>770</td>\n",
              "      <td>10000</td>\n",
              "      <td>1.0</td>\n",
              "      <td>0</td>\n",
              "      <td>0</td>\n",
              "      <td>3</td>\n",
              "      <td>6</td>\n",
              "      <td>770</td>\n",
              "      <td>0</td>\n",
              "      <td>1933</td>\n",
              "      <td>0</td>\n",
              "      <td>98028</td>\n",
              "      <td>47.7379</td>\n",
              "      <td>-122.233</td>\n",
              "      <td>2720</td>\n",
              "      <td>8062</td>\n",
              "    </tr>\n",
              "    <tr>\n",
              "      <th>3</th>\n",
              "      <td>2487200875</td>\n",
              "      <td>20141209T000000</td>\n",
              "      <td>604000.0</td>\n",
              "      <td>4</td>\n",
              "      <td>3.00</td>\n",
              "      <td>1960</td>\n",
              "      <td>5000</td>\n",
              "      <td>1.0</td>\n",
              "      <td>0</td>\n",
              "      <td>0</td>\n",
              "      <td>5</td>\n",
              "      <td>7</td>\n",
              "      <td>1050</td>\n",
              "      <td>910</td>\n",
              "      <td>1965</td>\n",
              "      <td>0</td>\n",
              "      <td>98136</td>\n",
              "      <td>47.5208</td>\n",
              "      <td>-122.393</td>\n",
              "      <td>1360</td>\n",
              "      <td>5000</td>\n",
              "    </tr>\n",
              "    <tr>\n",
              "      <th>4</th>\n",
              "      <td>1954400510</td>\n",
              "      <td>20150218T000000</td>\n",
              "      <td>510000.0</td>\n",
              "      <td>3</td>\n",
              "      <td>2.00</td>\n",
              "      <td>1680</td>\n",
              "      <td>8080</td>\n",
              "      <td>1.0</td>\n",
              "      <td>0</td>\n",
              "      <td>0</td>\n",
              "      <td>3</td>\n",
              "      <td>8</td>\n",
              "      <td>1680</td>\n",
              "      <td>0</td>\n",
              "      <td>1987</td>\n",
              "      <td>0</td>\n",
              "      <td>98074</td>\n",
              "      <td>47.6168</td>\n",
              "      <td>-122.045</td>\n",
              "      <td>1800</td>\n",
              "      <td>7503</td>\n",
              "    </tr>\n",
              "  </tbody>\n",
              "</table>\n",
              "</div>"
            ],
            "text/plain": [
              "           id             date     price  ...     long  sqft_living15  sqft_lot15\n",
              "0  7129300520  20141013T000000  221900.0  ... -122.257           1340        5650\n",
              "1  6414100192  20141209T000000  538000.0  ... -122.319           1690        7639\n",
              "2  5631500400  20150225T000000  180000.0  ... -122.233           2720        8062\n",
              "3  2487200875  20141209T000000  604000.0  ... -122.393           1360        5000\n",
              "4  1954400510  20150218T000000  510000.0  ... -122.045           1800        7503\n",
              "\n",
              "[5 rows x 21 columns]"
            ]
          },
          "metadata": {},
          "execution_count": 2
        }
      ]
    },
    {
      "cell_type": "markdown",
      "metadata": {
        "id": "Oo-QZTeOS04m"
      },
      "source": [
        "Vamos os tipos dos dados de cada coluna do data frame"
      ]
    },
    {
      "cell_type": "code",
      "metadata": {
        "colab": {
          "base_uri": "https://localhost:8080/"
        },
        "id": "YOMr7QUmS6Au",
        "outputId": "7f736820-1af1-4a98-8e2c-731ca70060ad"
      },
      "source": [
        "dataFrame.dtypes"
      ],
      "execution_count": null,
      "outputs": [
        {
          "output_type": "execute_result",
          "data": {
            "text/plain": [
              "id                 int64\n",
              "date              object\n",
              "price            float64\n",
              "bedrooms           int64\n",
              "bathrooms        float64\n",
              "sqft_living        int64\n",
              "sqft_lot           int64\n",
              "floors           float64\n",
              "waterfront         int64\n",
              "view               int64\n",
              "condition          int64\n",
              "grade              int64\n",
              "sqft_above         int64\n",
              "sqft_basement      int64\n",
              "yr_built           int64\n",
              "yr_renovated       int64\n",
              "zipcode            int64\n",
              "lat              float64\n",
              "long             float64\n",
              "sqft_living15      int64\n",
              "sqft_lot15         int64\n",
              "dtype: object"
            ]
          },
          "metadata": {},
          "execution_count": 3
        }
      ]
    },
    {
      "cell_type": "markdown",
      "metadata": {
        "id": "SlrmlOjpTvgF"
      },
      "source": [
        "Vimos que os dados foram bem importados. Agora vamos fazer uma análise superficial da correlação."
      ]
    },
    {
      "cell_type": "code",
      "metadata": {
        "colab": {
          "base_uri": "https://localhost:8080/",
          "height": 215
        },
        "id": "3nFwXM2QT2EY",
        "outputId": "82def91b-8f5a-4d5e-ce60-475c5b7a3bf9"
      },
      "source": [
        "import seaborn as sb\n",
        "sb.pairplot(dataFrame,\n",
        "            x_vars=[\"sqft_living\",\"bedrooms\",\"bathrooms\"],\n",
        "            y_vars=[\"price\"])"
      ],
      "execution_count": null,
      "outputs": [
        {
          "output_type": "execute_result",
          "data": {
            "text/plain": [
              "<seaborn.axisgrid.PairGrid at 0x7f45aa1aff90>"
            ]
          },
          "metadata": {},
          "execution_count": 4
        },
        {
          "output_type": "display_data",
          "data": {
            "image/png": "[encoded data removed]",
            "text/plain": [
              "<Figure size 540x180 with 3 Axes>"
            ]
          },
          "metadata": {
            "needs_background": "light"
          }
        }
      ]
    },
    {
      "cell_type": "markdown",
      "metadata": {
        "id": "F5Tm423XVmWb"
      },
      "source": [
        "Uma vez que fizemos uma análise da correlação, vamos selecionar um atributo para construirmos uma regressão linear simples. Como a variável sqft_living foi que, aparentemente, teve melhor correlação, vamos utilizá-la."
      ]
    },
    {
      "cell_type": "code",
      "metadata": {
        "id": "Imr39ePdWHuy"
      },
      "source": [
        "#variável INDEPENDENTE\n",
        "X = dataFrame[[\"sqft_living\"]]\n",
        "#variável DEPENDENTE\n",
        "y = dataFrame[[\"price\"]]"
      ],
      "execution_count": null,
      "outputs": []
    },
    {
      "cell_type": "markdown",
      "metadata": {
        "id": "XlY5pRXwW8f6"
      },
      "source": [
        "Vimos na aula passada que para evitar o overfitting, é aconselhável separar parte dos dados disponíveis para teste."
      ]
    },
    {
      "cell_type": "code",
      "metadata": {
        "colab": {
          "base_uri": "https://localhost:8080/"
        },
        "id": "oYCFC3ojXHna",
        "outputId": "7a8af675-bf64-428c-cfcc-43d5f632b72a"
      },
      "source": [
        "from sklearn.model_selection import train_test_split #importação da biblioteca\n",
        "X_train, X_test, y_train, y_test = train_test_split(X,y,test_size=0.15)\n",
        "print(\"Quantidade de registros separados para treinamento: \", len(X_train))\n",
        "print(\"Quantidade de registros separados para teste: \", len(X_test))"
      ],
      "execution_count": null,
      "outputs": [
        {
          "output_type": "stream",
          "name": "stdout",
          "text": [
            "Quantidade de registros separados para treinamento:  18371\n",
            "Quantidade de registros separados para teste:  3242\n"
          ]
        }
      ]
    },
    {
      "cell_type": "markdown",
      "metadata": {
        "id": "LJhJB2yPYuC3"
      },
      "source": [
        "Agora vamos com tudo para a aplicação da Regressão Linear."
      ]
    },
    {
      "cell_type": "code",
      "metadata": {
        "id": "ymaPwOWiYvwa"
      },
      "source": [
        "from sklearn.linear_model import LinearRegression # importação do componente que faz regressão linear\n",
        "objRL = LinearRegression()"
      ],
      "execution_count": null,
      "outputs": []
    },
    {
      "cell_type": "markdown",
      "metadata": {
        "id": "rQ5zmJz1Z8wi"
      },
      "source": [
        "Agora que tempos um objeto que é capaz de aplicar Regressão Linear, vamos partir para o teinamento."
      ]
    },
    {
      "cell_type": "code",
      "metadata": {
        "colab": {
          "base_uri": "https://localhost:8080/"
        },
        "id": "1UeyuZJiaMKX",
        "outputId": "e90f6469-b581-4d73-e690-237bf8d7b033"
      },
      "source": [
        "objRL.fit(X_train,y_train)"
      ],
      "execution_count": null,
      "outputs": [
        {
          "output_type": "execute_result",
          "data": {
            "text/plain": [
              "LinearRegression(copy_X=True, fit_intercept=True, n_jobs=None, normalize=False)"
            ]
          },
          "metadata": {},
          "execution_count": 13
        }
      ]
    },
    {
      "cell_type": "markdown",
      "metadata": {
        "id": "BeSpRsaUaem5"
      },
      "source": [
        "O objeto realizou o treinamento, logo, ele está capaz de prever valores"
      ]
    },
    {
      "cell_type": "code",
      "metadata": {
        "colab": {
          "base_uri": "https://localhost:8080/"
        },
        "id": "WfHvoedyao1C",
        "outputId": "e1ed7184-9ca3-4142-85b7-fbb0e2f1fc0b"
      },
      "source": [
        "#Vamos criar uma variável que irá comportar metragens de casas\n",
        "data = [\n",
        "          [1180], #221900.0\n",
        "          [770], #180000.0\n",
        "          [2570], #538000.0\n",
        "          [500] #????\n",
        "      ]\n",
        "data"
      ],
      "execution_count": null,
      "outputs": [
        {
          "output_type": "execute_result",
          "data": {
            "text/plain": [
              "[[1180], [770], [2570], [500]]"
            ]
          },
          "metadata": {},
          "execution_count": 14
        }
      ]
    },
    {
      "cell_type": "markdown",
      "metadata": {
        "id": "FaKan4b0ezya"
      },
      "source": [
        "Vamos pedir para o motor treinado prever os valores das casas com as metragens informadas na variável data"
      ]
    },
    {
      "cell_type": "code",
      "metadata": {
        "colab": {
          "base_uri": "https://localhost:8080/"
        },
        "id": "SZGz5T7tfTW1",
        "outputId": "0fcb1567-b5a0-492d-ed29-3d5d3e1e62ea"
      },
      "source": [
        "objRL.predict(data)"
      ],
      "execution_count": null,
      "outputs": [
        {
          "output_type": "execute_result",
          "data": {
            "text/plain": [
              "array([[288688.36340816],\n",
              "       [174289.20558495],\n",
              "       [676529.41066245],\n",
              "       [ 98953.17482333]])"
            ]
          },
          "metadata": {},
          "execution_count": 15
        }
      ]
    },
    {
      "cell_type": "markdown",
      "metadata": {
        "id": "Sx5F90mxg3qI"
      },
      "source": [
        "Agora, vamos armazenar os valores que o modelo irá prever para as casas que separei para testar o modelo"
      ]
    },
    {
      "cell_type": "code",
      "metadata": {
        "colab": {
          "base_uri": "https://localhost:8080/"
        },
        "id": "7QnqWdIIhFV-",
        "outputId": "14c3b889-6cbe-45d6-db3b-1c2f1133a952"
      },
      "source": [
        "y_pred = objRL.predict(X_test)\n",
        "y_pred"
      ],
      "execution_count": null,
      "outputs": [
        {
          "output_type": "execute_result",
          "data": {
            "text/plain": [
              "array([[1455001.72853257],\n",
              "       [ 403087.52123137],\n",
              "       [ 238464.34290041],\n",
              "       ...,\n",
              "       [ 818272.75742876],\n",
              "       [ 372395.06425441],\n",
              "       [ 495164.89216224]])"
            ]
          },
          "metadata": {},
          "execution_count": 16
        }
      ]
    },
    {
      "cell_type": "markdown",
      "metadata": {
        "id": "AFoqkMZs9hPa"
      },
      "source": [
        "O objeto já foi treinado, vamos avaliar qual foi o gráfico."
      ]
    },
    {
      "cell_type": "code",
      "metadata": {
        "colab": {
          "base_uri": "https://localhost:8080/",
          "height": 276
        },
        "id": "TkWSM3-m9mIh",
        "outputId": "0b797de4-d9ec-40ce-8aee-7d75b96885a6"
      },
      "source": [
        "import matplotlib.pyplot as plt\n",
        "plt.scatter(X_train,y_train, color=\"blue\")\n",
        "plt.plot(X_test,y_pred, color=\"red\", linewidth=3)\n",
        "plt.show()"
      ],
      "execution_count": null,
      "outputs": [
        {
          "output_type": "display_data",
          "data": {
            "image/png": "[encoded data removed]",
            "text/plain": [
              "<Figure size 432x288 with 1 Axes>"
            ]
          },
          "metadata": {
            "needs_background": "light"
          }
        }
      ]
    },
    {
      "cell_type": "markdown",
      "metadata": {
        "id": "Jy79hbNE-ocz"
      },
      "source": [
        "O que é realmente interessante avaliar em uma análise de regressão é a acurácia geral modelo. Na estatística há duas medidas muito utilizada para fazer essa medição: MSE e R2.\n",
        "O Cientista de Dados tem que buscar o menor MSE possível e o R2 o mais próximo de 1 possível.\n",
        "Estatísticos afirmam que um modelo de regressão com R2 acima 0.7, é um bom modelo."
      ]
    },
    {
      "cell_type": "code",
      "metadata": {
        "colab": {
          "base_uri": "https://localhost:8080/"
        },
        "id": "9Q1EdDyh_OFV",
        "outputId": "1687ab47-39a0-4f75-857c-0f9a40a8da1c"
      },
      "source": [
        "from sklearn.metrics import r2_score, mean_squared_error\n",
        "print(\"R2\", r2_score(y_test, y_pred))\n",
        "print(\"MSE\", mean_squared_error(y_test,y_pred))"
      ],
      "execution_count": null,
      "outputs": [
        {
          "output_type": "stream",
          "name": "stdout",
          "text": [
            "R2 0.49204955549621165\n",
            "MSE 76448657990.26205\n"
          ]
        }
      ]
    },
    {
      "cell_type": "markdown",
      "metadata": {
        "id": "YaxshNW0AVv8"
      },
      "source": [
        "Aprendemos, acima, como gerar uma regressão linear SIMPLES, que utilizou apenas uma variável independente, que foi a metragem do imóvel.\n",
        "Agora vamos tentar melhorar a acurácia utilizando mais variáveis independentes."
      ]
    },
    {
      "cell_type": "code",
      "metadata": {
        "id": "HdLrBbNmApV2"
      },
      "source": [
        "X2 = dataFrame[[\"sqft_living\",\"bathrooms\",\"bedrooms\"]]\n",
        "#variável DEPENDENTE\n",
        "y2 = dataFrame[[\"price\"]]"
      ],
      "execution_count": null,
      "outputs": []
    },
    {
      "cell_type": "markdown",
      "metadata": {
        "id": "zUkL4L4dBhdt"
      },
      "source": [
        "Uma vez que selecionamos três variáveis independentes (X2)para guiar a previsão do preço (y2), vamos separar dados de treinamento e de teste."
      ]
    },
    {
      "cell_type": "code",
      "metadata": {
        "colab": {
          "base_uri": "https://localhost:8080/"
        },
        "id": "GeSfmxvaBw81",
        "outputId": "008bd3a6-5793-4180-9629-d22f5b9a135f"
      },
      "source": [
        "from sklearn.model_selection import train_test_split as tts2#importação da biblioteca\n",
        "X2_train, X2_test, y2_train, y2_test = tts2(X2,y2,test_size=0.20)\n",
        "print(\"Quantidade de registros separados para treinamento: \", len(X2_train))\n",
        "print(\"Quantidade de registros separados para teste: \", len(X2_test))"
      ],
      "execution_count": null,
      "outputs": [
        {
          "output_type": "stream",
          "name": "stdout",
          "text": [
            "Quantidade de registros separados para treinamento:  17290\n",
            "Quantidade de registros separados para teste:  4323\n"
          ]
        }
      ]
    },
    {
      "cell_type": "code",
      "metadata": {
        "id": "JUyJZ3oMB_m2"
      },
      "source": [
        "Separamos dados de treinamento do de teste. Vamos gerar um novo modelo."
      ],
      "execution_count": null,
      "outputs": []
    },
    {
      "cell_type": "code",
      "metadata": {
        "colab": {
          "base_uri": "https://localhost:8080/"
        },
        "id": "Mmnofr5TCPee",
        "outputId": "49cf9158-0fde-4bb8-aa51-51318e0284dd"
      },
      "source": [
        "from sklearn.linear_model import LinearRegression as LR2 # importação do componente que faz regressão linear\n",
        "objRL2 = LR2()#()\n",
        "objRL2.fit(X2_train,y2_train)"
      ],
      "execution_count": null,
      "outputs": [
        {
          "output_type": "execute_result",
          "data": {
            "text/plain": [
              "LinearRegression(copy_X=True, fit_intercept=True, n_jobs=None, normalize=False)"
            ]
          },
          "metadata": {},
          "execution_count": 21
        }
      ]
    },
    {
      "cell_type": "markdown",
      "metadata": {
        "id": "903tzmF_Cn7c"
      },
      "source": [
        "Agora que foi criado um novo objeto, vamos pedir para ele prever os valores dos dados que foram separado para testar o modelo, que estão na variável X2_test"
      ]
    },
    {
      "cell_type": "code",
      "metadata": {
        "colab": {
          "base_uri": "https://localhost:8080/"
        },
        "id": "j54vPTnHC1j6",
        "outputId": "7c35e381-c5ef-47d9-bfd3-3a820781657c"
      },
      "source": [
        "y2_pred = objRL2.predict(X2_test)\n",
        "y2_pred\n",
        "print(\"R2\", r2_score(y2_test, y2_pred))\n",
        "print(\"MSE\", mean_squared_error(y2_test,y2_pred))"
      ],
      "execution_count": null,
      "outputs": [
        {
          "output_type": "stream",
          "name": "stdout",
          "text": [
            "R2 0.5044400859664724\n",
            "MSE 68253222939.695724\n"
          ]
        }
      ]
    },
    {
      "cell_type": "markdown",
      "metadata": {
        "id": "bqKk0j9aEPpz"
      },
      "source": [
        "Geramos um modelo com uma variável independes (m2). Depois geramos um modelos com 3 variáveis independetes (m2,num quarto,num banheiros). Agora vamos gerar um modelo com quase todas as variáveis disponívei."
      ]
    },
    {
      "cell_type": "code",
      "metadata": {
        "id": "yHAgwVmcEe0l"
      },
      "source": [
        "X3 = dataFrame.drop(columns=[\"id\",\"date\",\"price\"])\n",
        "#variável DEPENDENTE\n",
        "y3 = dataFrame[[\"price\"]]"
      ],
      "execution_count": null,
      "outputs": []
    },
    {
      "cell_type": "code",
      "metadata": {
        "colab": {
          "base_uri": "https://localhost:8080/"
        },
        "id": "oQuU6xxYGM5b",
        "outputId": "e5df1148-cbf8-4645-eb45-89cb33072029"
      },
      "source": [
        "from sklearn.model_selection import train_test_split as tts3#importação da biblioteca\n",
        "X3_train, X3_test, y3_train, y3_test = tts3(X3,y3,test_size=0.1)\n",
        "print(\"Quantidade de registros separados para treinamento: \", len(X3_train))\n",
        "print(\"Quantidade de registros separados para teste: \", len(X3_test))"
      ],
      "execution_count": null,
      "outputs": [
        {
          "output_type": "stream",
          "name": "stdout",
          "text": [
            "Quantidade de registros separados para treinamento:  19451\n",
            "Quantidade de registros separados para teste:  2162\n"
          ]
        }
      ]
    },
    {
      "cell_type": "code",
      "metadata": {
        "colab": {
          "base_uri": "https://localhost:8080/"
        },
        "id": "fNDUsmSjHZno",
        "outputId": "4be0272f-9438-4490-b296-52ce54ee3d0b"
      },
      "source": [
        "from sklearn.linear_model import LinearRegression as LR3 # importação do componente que faz regressão linear\n",
        "objRL3 = LR3()#()\n",
        "objRL3.fit(X3_train,y3_train)"
      ],
      "execution_count": null,
      "outputs": [
        {
          "output_type": "execute_result",
          "data": {
            "text/plain": [
              "LinearRegression(copy_X=True, fit_intercept=True, n_jobs=None, normalize=False)"
            ]
          },
          "metadata": {},
          "execution_count": 28
        }
      ]
    },
    {
      "cell_type": "code",
      "metadata": {
        "colab": {
          "base_uri": "https://localhost:8080/"
        },
        "id": "UiZ5nn2qHkPg",
        "outputId": "41412e77-6e88-4a82-97fe-d45bd2248cd8"
      },
      "source": [
        "y3_pred = objRL3.predict(X3_test)\n",
        "print(\"R2\", r2_score(y3_test, y3_pred))\n",
        "print(\"MSE\", mean_squared_error(y3_test,y3_pred))"
      ],
      "execution_count": null,
      "outputs": [
        {
          "output_type": "stream",
          "name": "stdout",
          "text": [
            "R2 0.6839232113816389\n",
            "MSE 46004647854.60191\n"
          ]
        }
      ]
    },
    {
      "cell_type": "markdown",
      "metadata": {
        "id": "2wM94wHAKG65"
      },
      "source": [
        "Para ter uma noção de como está a performance do modelo, vamos gerar gráfico para ver a variação preço previsto x preço real."
      ]
    },
    {
      "cell_type": "code",
      "metadata": {
        "colab": {
          "base_uri": "https://localhost:8080/",
          "height": 419
        },
        "id": "unoiP5I_KPj5",
        "outputId": "bc3e4822-69a5-4df5-8dfa-e11d087e156e"
      },
      "source": [
        "#y3_test.head()\n",
        "y3_test[\"preco_previsto\"] = y3_pred\n",
        "#y3_test.head()\n",
        "dfAnalise = y3_test.head(15)\n",
        "dfAnalise.plot(kind=\"bar\")"
      ],
      "execution_count": null,
      "outputs": [
        {
          "output_type": "stream",
          "name": "stderr",
          "text": [
            "/usr/local/lib/python3.7/dist-packages/ipykernel_launcher.py:2: SettingWithCopyWarning: \n",
            "A value is trying to be set on a copy of a slice from a DataFrame.\n",
            "Try using .loc[row_indexer,col_indexer] = value instead\n",
            "\n",
            "See the caveats in the documentation: https://pandas.pydata.org/pandas-docs/stable/user_guide/indexing.html#returning-a-view-versus-a-copy\n",
            "  \n"
          ]
        },
        {
          "output_type": "execute_result",
          "data": {
            "text/plain": [
              "<matplotlib.axes._subplots.AxesSubplot at 0x7f459ae2ad10>"
            ]
          },
          "metadata": {},
          "execution_count": 30
        },
        {
          "output_type": "display_data",
          "data": {
            "image/png": "[encoded data removed]",
            "text/plain": [
              "<Figure size 432x288 with 1 Axes>"
            ]
          },
          "metadata": {
            "needs_background": "light"
          }
        }
      ]
    }
  ]
}